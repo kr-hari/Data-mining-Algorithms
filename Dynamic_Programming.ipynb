{
 "cells": [
  {
   "attachments": {},
   "cell_type": "markdown",
   "metadata": {},
   "source": [
    "# Dynamic programming \n",
    "\n",
    "In the below code we will use dynamic programming to find the maximum length og non decreasing subsequence in an array"
   ]
  },
  {
   "cell_type": "code",
   "execution_count": 5,
   "metadata": {},
   "outputs": [
    {
     "name": "stdout",
     "output_type": "stream",
     "text": [
      "[14, 16, 8, 38, 3, 29, 14, 22, 24, 9]\n"
     ]
    }
   ],
   "source": [
    "import random\n",
    "N=10\n",
    "a = [random.randrange(50) for i in range(N)]\n",
    "print(a)"
   ]
  },
  {
   "cell_type": "code",
   "execution_count": 7,
   "metadata": {},
   "outputs": [
    {
     "name": "stdout",
     "output_type": "stream",
     "text": [
      "Max length of a non-decreasing subsequence is\n",
      "3\n"
     ]
    }
   ],
   "source": [
    "L = [1 for i in range(N)]\n",
    "for j in range(N):\n",
    "    for i in range(j):\n",
    "        if a[i] <= a[j]:\n",
    "            L[j] = max(L[j], L[i]+1)\n",
    "print(\"Max length of a non-decreasing subsequence is\")\n",
    "print(max(L)-1)"
   ]
  }
 ],
 "metadata": {
  "kernelspec": {
   "display_name": "Python 3.9.12 ('base')",
   "language": "python",
   "name": "python3"
  },
  "language_info": {
   "codemirror_mode": {
    "name": "ipython",
    "version": 3
   },
   "file_extension": ".py",
   "mimetype": "text/x-python",
   "name": "python",
   "nbconvert_exporter": "python",
   "pygments_lexer": "ipython3",
   "version": "3.10.7"
  },
  "orig_nbformat": 4,
  "vscode": {
   "interpreter": {
    "hash": "ec82f12a2cb47047b534e9c669340dcebb498bf61f15a6577c32df05515dbebf"
   }
  }
 },
 "nbformat": 4,
 "nbformat_minor": 2
}
